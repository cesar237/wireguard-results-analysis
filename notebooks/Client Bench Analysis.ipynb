{
 "cells": [
  {
   "cell_type": "code",
   "execution_count": 1,
   "id": "3cfc1cbb",
   "metadata": {},
   "outputs": [],
   "source": [
    "import numpy as np\n",
    "import scienceplots\n",
    "from matplotlib import pyplot as plt\n",
    "import matplotlib as mp\n",
    "import pandas as pd\n",
    "import os\n",
    "import scipy as sp\n",
    "import seaborn as sns\n",
    "import json\n",
    "import yaml\n",
    "import functools\n",
    "import itertools"
   ]
  },
  {
   "cell_type": "code",
   "execution_count": 2,
   "id": "b27e42f6",
   "metadata": {},
   "outputs": [],
   "source": [
    "prefix='client-bench'"
   ]
  },
  {
   "cell_type": "code",
   "execution_count": 3,
   "id": "691d07ce",
   "metadata": {},
   "outputs": [],
   "source": [
    "res_dir = os.listdir(f'../{prefix}')[0]\n",
    "res_dir = f\"{prefix}/{res_dir}\""
   ]
  },
  {
   "cell_type": "code",
   "execution_count": 4,
   "id": "903779e7",
   "metadata": {},
   "outputs": [],
   "source": [
    "def import_pidstat(res_dir):\n",
    "    pidstat = pd.read_csv(f\"../{res_dir}/summary/server/cpu-pidstat.csv\")\n",
    "    pidstat = pidstat[pidstat.used >= 0]\n",
    "    tmp = pidstat.groupby(['cpu', 'client', 'core', 'timestamp', 'run']).sum(numeric_only=True).reset_index() \n",
    "    tmp = tmp.groupby(['cpu', 'client', 'core', 'run']).median(numeric_only=True).reset_index()\n",
    "    percore = tmp.groupby(['cpu', 'client', 'core']).median(numeric_only=True).reset_index()\n",
    "    global_cpu = tmp.groupby(['cpu', 'client']).median().reset_index()\n",
    "    return global_cpu, percore\n",
    "\n",
    "def import_cpu(res_dir):\n",
    "    cpu = pd.read_csv(f\"../{res_dir}/summary/server/cpu-sar.csv\")\n",
    "    cpu = cpu[cpu.core != -1]\n",
    "    tmp = cpu.groupby(['cpu', 'client', 'core', 'run']).median().reset_index()\n",
    "    tmp = cpu.groupby(['cpu', 'client', 'core']).median().reset_index()\n",
    "    tmp['used'] = 100 - tmp['idle']\n",
    "    global_cpu = tmp.groupby(['cpu', 'client']).median().reset_index()\n",
    "    return global_cpu, tmp\n",
    "\n",
    "def import_latency(res_dir):\n",
    "    latency = pd.read_csv(f\"../{res_dir}/summary/clients/sockperf-1.csv\")\n",
    "    tails = ['99th', '99.9th', '99.99th', '99.999th',]\n",
    "    cols = ['min', 'median', 'max'] + tails\n",
    "    latency = latency.groupby(['cpu', 'client', 'run']).median().reset_index()\n",
    "    latency = latency.groupby(['cpu', 'client']).median().reset_index()\n",
    "    latency[cols] /= 1000\n",
    "    return latency\n",
    "\n",
    "def import_throughput(res_dir):\n",
    "    net = pd.read_csv(f\"../{res_dir}/summary/server/throughput-sar.csv\")\n",
    "    net = net[net.iface == 'wg']\n",
    "    net = net.groupby(['cpu', 'client', 'run']).median(numeric_only=True).reset_index()\n",
    "    net = net.groupby(['cpu', 'client',]).median(numeric_only=True).reset_index()\n",
    "    net['rxkB/s'] = net['rxkB/s'] * 8 / 1e6\n",
    "    net['txkB/s'] = net['txkB/s'] * 8 / 1e6\n",
    "    return net\n",
    "\n",
    "def plot_all(res_dirs, importer, kind='bar', y='used', \n",
    "             variants=[0,1], variant_names=['VANILLA', 'CRYPTONCE'], correct=[], \n",
    "             ylabel='CPU Usage (in \\%)', ylim=None, figsize=(4, 3), ncols=1,\n",
    "             space=.1, annotate='improvement', annotate_baseline='VANILLA', annotate_variant='CRYPTONCE', \n",
    "             fontsize=8, savefig=None, columnspacing=1):\n",
    "#     vanilla = importer(res_dirs[0][0])\n",
    "#     cryptonce = importer(res_dirs[1][0])\n",
    "    baseline = importer(res_dirs[variants[0]][0])\n",
    "    \n",
    "    dfs = [importer(res_dirs[i][0]) for i in variants]\n",
    "\n",
    "    for df_idx, key, val in correct:\n",
    "        dfs[df_idx].loc[key, y] = val\n",
    "    \n",
    "    df = pd.DataFrame()\n",
    "    df['client'] = dfs[0]['client']\n",
    "    for df_, name in zip(dfs, variant_names):\n",
    "        df[name] = df_[y]\n",
    "    \n",
    "    df['diff'] = df[annotate_baseline] - df[annotate_variant]\n",
    "    df['improvement'] = df['diff'] * 100 / df[annotate_baseline]\n",
    "\n",
    "    with plt.style.context(['science', 'ieee']):\n",
    "        if kind == 'bar':\n",
    "            ax = df.plot.bar(x='client', y=variant_names, color=['black', 'red', 'blue', 'green'],\n",
    "                   grid=True, ylabel=ylabel, ylim=ylim, figsize=figsize, xlabel='Clients')\n",
    "            plt.xticks(rotation=0)\n",
    "            \n",
    "            if annotate is not None:\n",
    "                for k, i in enumerate(df.index):\n",
    "                    suffix = \"\\%\" if annotate == \"improvement\" else \"\"\n",
    "                    max_height = df.loc[i, annotate_baseline]  # Position at the higher bar\n",
    "                    ax.text(k, max_height + space, f'{df.loc[i, annotate]:.2f}{suffix}', \n",
    "                            ha='center', fontsize=fontsize)\n",
    "            \n",
    "        elif kind == 'line':\n",
    "            ax = baseline.plot(\n",
    "                x='client', y=y, grid=True, color='black', marker='x',\n",
    "                label=variant_names[0], xlabel='Clients', ylabel=ylabel,\n",
    "            )\n",
    "            for df_, name in zip(dfs[1:], variant_names[1:]):\n",
    "                ax = df_.plot(ax=ax, marker='o', figsize=figsize,\n",
    "                    x='client', y=y, grid=True, color='red',\n",
    "                    label=name, xlabel='Clients', ylabel=ylabel, ylim=ylim\n",
    "                )\n",
    "        plt.legend(loc='upper left', ncol=ncols, columnspacing=columnspacing)\n",
    "        if savefig is not None:\n",
    "            plt.savefig(savefig, dpi=400)\n",
    "        plt.show()\n",
    "    return df"
   ]
  },
  {
   "cell_type": "code",
   "execution_count": 5,
   "id": "aa0f0983",
   "metadata": {},
   "outputs": [],
   "source": [
    "def reslv_res_name(res_dir):\n",
    "    filename = f\"../{res_dir}/EXPERIMENT_DATA/TEST_CONFIG\"    \n",
    "    with open(filename) as file:\n",
    "        test_config = file.read().strip()\n",
    "    \n",
    "    yaml_file = f\"../{res_dir}/EXPERIMENT_DATA/{test_config}.yaml\"\n",
    "    with open(yaml_file) as file:\n",
    "        content = yaml.load(file, yaml.FullLoader)\n",
    "        flow = content['all']['vars']['bandwidth']\n",
    "    \n",
    "    if test_config != 'default':\n",
    "        use_case, suffix = test_config.split('--')\n",
    "        crypted = suffix.split('-')[0]\n",
    "        threaded = \"-\".join(suffix.split('-')[1:])\n",
    "#         threaded = len(suffix.split('-')[1:]) == 2\n",
    "    else:\n",
    "        use_case = wg_variant = traffic = flow = None\n",
    "        \n",
    "    return test_config, use_case, flow, crypted, threaded"
   ]
  },
  {
   "cell_type": "code",
   "execution_count": 7,
   "id": "2782e785",
   "metadata": {},
   "outputs": [],
   "source": [
    "# res_dirs = [(f\"{prefix}/{e}\", *reslv_res_name(f\"{prefix}/{e}\")) \n",
    "#             for e in os.listdir(f\"../{prefix}\") if e.startswith(\"results-\")]"
   ]
  },
  {
   "cell_type": "code",
   "execution_count": 21,
   "id": "6415d8a9",
   "metadata": {},
   "outputs": [],
   "source": [
    "res_dirs = os.listdir(f'../{prefix}')\n",
    "variants = []\n",
    "\n",
    "for res_dir in res_dirs:\n",
    "    with open(f\"../{prefix}/{res_dir}/EXPERIMENT_DATA/CURRENT_EXP\") as f:\n",
    "        variant = f.read().strip().split('-')[1].upper()\n",
    "        variants.append(variant)"
   ]
  },
  {
   "cell_type": "code",
   "execution_count": 22,
   "id": "f665612e",
   "metadata": {},
   "outputs": [
    {
     "data": {
      "text/plain": [
       "['CRYPTONCE', 'VANILLA']"
      ]
     },
     "execution_count": 22,
     "metadata": {},
     "output_type": "execute_result"
    }
   ],
   "source": [
    "variants"
   ]
  },
  {
   "cell_type": "code",
   "execution_count": 58,
   "id": "1af2b76f",
   "metadata": {},
   "outputs": [],
   "source": [
    "\n",
    "dfs = {}\n",
    "\n",
    "for res_dir, variant in zip(res_dirs, variants):\n",
    "    scp = pd.read_csv(f'../{prefix}/{res_dir}/summary/scp.csv')\n",
    "    scp['variant'] = variant\n",
    "    dfs[variant] = scp.set_index(['filesize', 'direction'])"
   ]
  },
  {
   "cell_type": "markdown",
   "id": "5a5faa87",
   "metadata": {},
   "source": [
    "# Cryptonce - VANILLA"
   ]
  },
  {
   "cell_type": "code",
   "execution_count": 45,
   "id": "b0154c38",
   "metadata": {},
   "outputs": [],
   "source": [
    "diff = dfs['CRYPTONCE']['duration'] - dfs['VANILLA']['duration']"
   ]
  },
  {
   "cell_type": "code",
   "execution_count": 49,
   "id": "e65d22a9",
   "metadata": {},
   "outputs": [
    {
     "data": {
      "text/plain": [
       "filesize  direction\n",
       "1G        upload       3.035964\n",
       "2G        upload       5.709808\n",
       "5G        upload       6.360364\n",
       "1G        download     2.942367\n",
       "2G        download     5.463141\n",
       "5G        download     5.525271\n",
       "Name: duration, dtype: float64"
      ]
     },
     "execution_count": 49,
     "metadata": {},
     "output_type": "execute_result"
    }
   ],
   "source": [
    "dfs['VANILLA']['duration']"
   ]
  },
  {
   "cell_type": "code",
   "execution_count": 50,
   "id": "968616ff",
   "metadata": {},
   "outputs": [],
   "source": [
    "impr = diff * 100 / dfs['VANILLA']['duration']"
   ]
  },
  {
   "cell_type": "code",
   "execution_count": 54,
   "id": "c6cf88fa",
   "metadata": {},
   "outputs": [],
   "source": [
    "df = pd.DataFrame(impr).reset_index()"
   ]
  },
  {
   "cell_type": "code",
   "execution_count": 55,
   "id": "6078ea72",
   "metadata": {},
   "outputs": [
    {
     "data": {
      "text/html": [
       "<div>\n",
       "<style scoped>\n",
       "    .dataframe tbody tr th:only-of-type {\n",
       "        vertical-align: middle;\n",
       "    }\n",
       "\n",
       "    .dataframe tbody tr th {\n",
       "        vertical-align: top;\n",
       "    }\n",
       "\n",
       "    .dataframe thead th {\n",
       "        text-align: right;\n",
       "    }\n",
       "</style>\n",
       "<table border=\"1\" class=\"dataframe\">\n",
       "  <thead>\n",
       "    <tr style=\"text-align: right;\">\n",
       "      <th></th>\n",
       "      <th>filesize</th>\n",
       "      <th>direction</th>\n",
       "      <th>duration</th>\n",
       "    </tr>\n",
       "  </thead>\n",
       "  <tbody>\n",
       "    <tr>\n",
       "      <th>0</th>\n",
       "      <td>1G</td>\n",
       "      <td>upload</td>\n",
       "      <td>-0.343341</td>\n",
       "    </tr>\n",
       "    <tr>\n",
       "      <th>1</th>\n",
       "      <td>2G</td>\n",
       "      <td>upload</td>\n",
       "      <td>0.872648</td>\n",
       "    </tr>\n",
       "    <tr>\n",
       "      <th>2</th>\n",
       "      <td>5G</td>\n",
       "      <td>upload</td>\n",
       "      <td>-10.511183</td>\n",
       "    </tr>\n",
       "    <tr>\n",
       "      <th>3</th>\n",
       "      <td>1G</td>\n",
       "      <td>download</td>\n",
       "      <td>0.397208</td>\n",
       "    </tr>\n",
       "    <tr>\n",
       "      <th>4</th>\n",
       "      <td>2G</td>\n",
       "      <td>download</td>\n",
       "      <td>1.872296</td>\n",
       "    </tr>\n",
       "    <tr>\n",
       "      <th>5</th>\n",
       "      <td>5G</td>\n",
       "      <td>download</td>\n",
       "      <td>-0.445711</td>\n",
       "    </tr>\n",
       "  </tbody>\n",
       "</table>\n",
       "</div>"
      ],
      "text/plain": [
       "  filesize direction   duration\n",
       "0       1G    upload  -0.343341\n",
       "1       2G    upload   0.872648\n",
       "2       5G    upload -10.511183\n",
       "3       1G  download   0.397208\n",
       "4       2G  download   1.872296\n",
       "5       5G  download  -0.445711"
      ]
     },
     "execution_count": 55,
     "metadata": {},
     "output_type": "execute_result"
    }
   ],
   "source": [
    "df"
   ]
  },
  {
   "cell_type": "code",
   "execution_count": 57,
   "id": "270b0145",
   "metadata": {},
   "outputs": [
    {
     "data": {
      "image/png": "[encoded data removed]",
      "text/plain": [
       "<Figure size 432x288 with 1 Axes>"
      ]
     },
     "metadata": {
      "needs_background": "light"
     },
     "output_type": "display_data"
    }
   ],
   "source": [
    "sns.barplot(df, x='filesize', y='duration', hue='direction')\n",
    "plt.show()"
   ]
  },
  {
   "cell_type": "code",
   "execution_count": 64,
   "id": "83ac27f5",
   "metadata": {},
   "outputs": [],
   "source": [
    "\n",
    "dfs = {}\n",
    "\n",
    "for res_dir, variant in zip(res_dirs, variants):\n",
    "    df = pd.read_csv(f'../{prefix}/{res_dir}/summary/streaming.csv')\n",
    "    df['variant'] = variant\n",
    "    dfs[variant] = df"
   ]
  },
  {
   "cell_type": "code",
   "execution_count": 66,
   "id": "d0cc0165",
   "metadata": {},
   "outputs": [
    {
     "data": {
      "text/html": [
       "<div>\n",
       "<style scoped>\n",
       "    .dataframe tbody tr th:only-of-type {\n",
       "        vertical-align: middle;\n",
       "    }\n",
       "\n",
       "    .dataframe tbody tr th {\n",
       "        vertical-align: top;\n",
       "    }\n",
       "\n",
       "    .dataframe thead th {\n",
       "        text-align: right;\n",
       "    }\n",
       "</style>\n",
       "<table border=\"1\" class=\"dataframe\">\n",
       "  <thead>\n",
       "    <tr style=\"text-align: right;\">\n",
       "      <th></th>\n",
       "      <th>run</th>\n",
       "      <th>resolution</th>\n",
       "      <th>bitrate</th>\n",
       "      <th>framerate</th>\n",
       "      <th>format</th>\n",
       "      <th>variant</th>\n",
       "    </tr>\n",
       "  </thead>\n",
       "  <tbody>\n",
       "    <tr>\n",
       "      <th>0</th>\n",
       "      <td>1</td>\n",
       "      <td>480p</td>\n",
       "      <td>854.8kbits/s</td>\n",
       "      <td>1471</td>\n",
       "      <td>mpeg</td>\n",
       "      <td>CRYPTONCE</td>\n",
       "    </tr>\n",
       "    <tr>\n",
       "      <th>1</th>\n",
       "      <td>1</td>\n",
       "      <td>720p</td>\n",
       "      <td>1329.4kbits/s</td>\n",
       "      <td>929</td>\n",
       "      <td>mpeg</td>\n",
       "      <td>CRYPTONCE</td>\n",
       "    </tr>\n",
       "    <tr>\n",
       "      <th>2</th>\n",
       "      <td>1</td>\n",
       "      <td>1080p</td>\n",
       "      <td>2233.9kbits/s</td>\n",
       "      <td>504</td>\n",
       "      <td>mpeg</td>\n",
       "      <td>CRYPTONCE</td>\n",
       "    </tr>\n",
       "  </tbody>\n",
       "</table>\n",
       "</div>"
      ],
      "text/plain": [
       "   run resolution        bitrate  framerate format    variant\n",
       "0    1       480p   854.8kbits/s       1471   mpeg  CRYPTONCE\n",
       "1    1       720p  1329.4kbits/s        929   mpeg  CRYPTONCE\n",
       "2    1      1080p  2233.9kbits/s        504   mpeg  CRYPTONCE"
      ]
     },
     "execution_count": 66,
     "metadata": {},
     "output_type": "execute_result"
    }
   ],
   "source": [
    "dfs['CRYPTONCE']"
   ]
  },
  {
   "cell_type": "code",
   "execution_count": 67,
   "id": "3014b4f9",
   "metadata": {},
   "outputs": [
    {
     "data": {
      "text/html": [
       "<div>\n",
       "<style scoped>\n",
       "    .dataframe tbody tr th:only-of-type {\n",
       "        vertical-align: middle;\n",
       "    }\n",
       "\n",
       "    .dataframe tbody tr th {\n",
       "        vertical-align: top;\n",
       "    }\n",
       "\n",
       "    .dataframe thead th {\n",
       "        text-align: right;\n",
       "    }\n",
       "</style>\n",
       "<table border=\"1\" class=\"dataframe\">\n",
       "  <thead>\n",
       "    <tr style=\"text-align: right;\">\n",
       "      <th></th>\n",
       "      <th>run</th>\n",
       "      <th>resolution</th>\n",
       "      <th>bitrate</th>\n",
       "      <th>framerate</th>\n",
       "      <th>format</th>\n",
       "      <th>variant</th>\n",
       "    </tr>\n",
       "  </thead>\n",
       "  <tbody>\n",
       "    <tr>\n",
       "      <th>0</th>\n",
       "      <td>1</td>\n",
       "      <td>480p</td>\n",
       "      <td>854.8kbits/s</td>\n",
       "      <td>1464</td>\n",
       "      <td>mpeg</td>\n",
       "      <td>VANILLA</td>\n",
       "    </tr>\n",
       "    <tr>\n",
       "      <th>1</th>\n",
       "      <td>1</td>\n",
       "      <td>720p</td>\n",
       "      <td>1329.4kbits/s</td>\n",
       "      <td>929</td>\n",
       "      <td>mpeg</td>\n",
       "      <td>VANILLA</td>\n",
       "    </tr>\n",
       "    <tr>\n",
       "      <th>2</th>\n",
       "      <td>1</td>\n",
       "      <td>1080p</td>\n",
       "      <td>2233.9kbits/s</td>\n",
       "      <td>504</td>\n",
       "      <td>mpeg</td>\n",
       "      <td>VANILLA</td>\n",
       "    </tr>\n",
       "  </tbody>\n",
       "</table>\n",
       "</div>"
      ],
      "text/plain": [
       "   run resolution        bitrate  framerate format  variant\n",
       "0    1       480p   854.8kbits/s       1464   mpeg  VANILLA\n",
       "1    1       720p  1329.4kbits/s        929   mpeg  VANILLA\n",
       "2    1      1080p  2233.9kbits/s        504   mpeg  VANILLA"
      ]
     },
     "execution_count": 67,
     "metadata": {},
     "output_type": "execute_result"
    }
   ],
   "source": [
    "dfs['VANILLA']"
   ]
  },
  {
   "cell_type": "code",
   "execution_count": null,
   "id": "f2491e3b",
   "metadata": {},
   "outputs": [],
   "source": []
  }
 ],
 "metadata": {
  "kernelspec": {
   "display_name": "Python 3 (ipykernel)",
   "language": "python",
   "name": "python3"
  },
  "language_info": {
   "codemirror_mode": {
    "name": "ipython",
    "version": 3
   },
   "file_extension": ".py",
   "mimetype": "text/x-python",
   "name": "python",
   "nbconvert_exporter": "python",
   "pygments_lexer": "ipython3",
   "version": "3.11.6"
  }
 },
 "nbformat": 4,
 "nbformat_minor": 5
}
