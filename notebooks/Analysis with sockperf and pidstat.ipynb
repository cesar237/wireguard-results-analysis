{
 "cells": [
  {
   "cell_type": "code",
   "execution_count": 1,
   "id": "3a2d15ce",
   "metadata": {},
   "outputs": [],
   "source": [
    "import numpy as np\n",
    "import scienceplots\n",
    "from matplotlib import pyplot as plt\n",
    "import pandas as pd\n",
    "import os\n",
    "import scipy as sp\n",
    "import seaborn as sns\n",
    "import json\n",
    "import yaml\n",
    "import functools\n",
    "import itertools"
   ]
  },
  {
   "cell_type": "code",
   "execution_count": 3,
   "id": "4d56d396",
   "metadata": {},
   "outputs": [],
   "source": [
    "prefix='sockperf-eval'"
   ]
  },
  {
   "cell_type": "code",
   "execution_count": 4,
   "id": "b5450c7d",
   "metadata": {},
   "outputs": [],
   "source": [
    "res_dir = os.listdir(f'../{prefix}')[0]\n",
    "res_dir = f\"{prefix}/{res_dir}\""
   ]
  },
  {
   "cell_type": "markdown",
   "id": "7fdb48d6",
   "metadata": {},
   "source": [
    "# PIDSTAT"
   ]
  },
  {
   "cell_type": "markdown",
   "id": "554aaf52",
   "metadata": {},
   "source": [
    "## Global CPU usage"
   ]
  },
  {
   "cell_type": "code",
   "execution_count": 34,
   "id": "2902d346",
   "metadata": {},
   "outputs": [
    {
     "name": "stdout",
     "output_type": "stream",
     "text": [
      "   cpu  client  run       wait       used   core\n",
      "0   18       1    1   0.111111   2.277778  184.5\n",
      "1   18      50    1  12.722222  31.722222  622.5\n",
      "2   18     100    1  12.722222  29.055556  637.5\n"
     ]
    },
    {
     "data": {
      "text/plain": [
       "<AxesSubplot: xlabel='client'>"
      ]
     },
     "execution_count": 34,
     "metadata": {},
     "output_type": "execute_result"
    },
    {
     "data": {
      "image/png": "[encoded data removed]",
      "text/plain": [
       "<Figure size 432x288 with 1 Axes>"
      ]
     },
     "metadata": {
      "needs_background": "light"
     },
     "output_type": "display_data"
    }
   ],
   "source": [
    "pidstat = pd.read_csv(f\"../{res_dir}/summary/server/cpu-pidstat.csv\")\n",
    "\n",
    "# Compute sum of CPU usage of pids at a given timestamp\n",
    "tmp = pidstat.groupby(['cpu', 'client', 'timestamp', 'run']).sum(numeric_only=True).reset_index()\n",
    "\n",
    "# Compute median values per run for each cpu, client couple\n",
    "tmp = tmp.groupby(['cpu', 'client', 'run']).median(numeric_only=True).reset_index()\n",
    "\n",
    "# Normalize CPU usage to 100%\n",
    "ncpu = 18\n",
    "tmp[['used', 'wait']] /= 18\n",
    "\n",
    "print(tmp)\n",
    "tmp.plot.bar(x='client', y='used')"
   ]
  },
  {
   "cell_type": "markdown",
   "id": "d1f1c333",
   "metadata": {},
   "source": [
    "## Per core CPU usage"
   ]
  },
  {
   "cell_type": "code",
   "execution_count": 66,
   "id": "30d7a002",
   "metadata": {},
   "outputs": [],
   "source": [
    "pidstat = pd.read_csv(f\"../{res_dir}/summary/server/cpu-pidstat.csv\")"
   ]
  },
  {
   "cell_type": "code",
   "execution_count": 67,
   "id": "9250b41a",
   "metadata": {},
   "outputs": [],
   "source": [
    "# Compute sum of CPU usage of pids at a given timestamp\n",
    "tmp = pidstat.groupby(['cpu', 'client', 'core', 'timestamp', 'run']).sum(numeric_only=True).reset_index()\n",
    "\n",
    "# Compute median values per run for each cpu, client couple\n",
    "tmp = tmp.groupby(['cpu', 'client', 'core', 'run']).median(numeric_only=True).reset_index()"
   ]
  },
  {
   "cell_type": "code",
   "execution_count": 68,
   "id": "b475a715",
   "metadata": {},
   "outputs": [],
   "source": [
    "tmp_per_client = {}\n",
    "for client in tmp.client.unique():\n",
    "    tmp_per_client[client] = tmp[tmp.client == client]"
   ]
  },
  {
   "cell_type": "code",
   "execution_count": 69,
   "id": "7c9e0ffc",
   "metadata": {},
   "outputs": [
    {
     "data": {
      "text/plain": [
       "<AxesSubplot: xlabel='core'>"
      ]
     },
     "execution_count": 69,
     "metadata": {},
     "output_type": "execute_result"
    },
    {
     "data": {
      "image/png": "[encoded data removed]",
      "text/plain": [
       "<Figure size 432x288 with 1 Axes>"
      ]
     },
     "metadata": {
      "needs_background": "light"
     },
     "output_type": "display_data"
    }
   ],
   "source": [
    "tmp_per_client[100].plot.bar(x='core', y='used')"
   ]
  },
  {
   "cell_type": "code",
   "execution_count": 70,
   "id": "84f1aae3",
   "metadata": {},
   "outputs": [
    {
     "name": "stdout",
     "output_type": "stream",
     "text": [
      "   cpu  client  run  core       wait       used\n",
      "0   18       1    1   8.5   0.111111   2.333333\n",
      "1   18      50    1   8.5  12.611111  31.788611\n",
      "2   18     100    1   8.5  12.718333  28.931944\n"
     ]
    },
    {
     "data": {
      "text/plain": [
       "<AxesSubplot: xlabel='client'>"
      ]
     },
     "execution_count": 70,
     "metadata": {},
     "output_type": "execute_result"
    },
    {
     "data": {
      "image/png": "[encoded data removed]",
      "text/plain": [
       "<Figure size 432x288 with 1 Axes>"
      ]
     },
     "metadata": {
      "needs_background": "light"
     },
     "output_type": "display_data"
    }
   ],
   "source": [
    "tmp_global = tmp.groupby(['cpu', 'client', 'run']).mean().reset_index()\n",
    "print(tmp_global)\n",
    "tmp_global.plot.bar(x='client', y='used')"
   ]
  },
  {
   "cell_type": "markdown",
   "id": "ecfe7e3b",
   "metadata": {},
   "source": [
    "# CPU SAR (IDLE-based)"
   ]
  },
  {
   "cell_type": "code",
   "execution_count": 51,
   "id": "122ae83a",
   "metadata": {},
   "outputs": [],
   "source": [
    "cpu = pd.read_csv(f\"../{res_dir}/summary/server/cpu-sar.csv\")\n",
    "cpu = cpu[cpu.core != -1]\n",
    "tmp = cpu.groupby(['cpu', 'client', 'core', 'run']).median().reset_index()\n",
    "# tmp = tmp.groupby(['cpu', 'client']).sum().reset_index()\n",
    "# ncpu = 18\n",
    "# tmp[['idle', 'usr', 'kernel', 'softirq']] /= ncpu\n",
    "tmp['used'] = 100 - tmp['idle']\n"
   ]
  },
  {
   "cell_type": "code",
   "execution_count": 53,
   "id": "ad3e29dc",
   "metadata": {},
   "outputs": [],
   "source": [
    "tmp\n",
    "tmp_per_client = {}\n",
    "for client in tmp.client.unique():\n",
    "    tmp_per_client[client] = tmp[tmp.client == client]"
   ]
  },
  {
   "cell_type": "code",
   "execution_count": 57,
   "id": "c62ea180",
   "metadata": {},
   "outputs": [
    {
     "data": {
      "text/plain": [
       "<AxesSubplot: xlabel='core'>"
      ]
     },
     "execution_count": 57,
     "metadata": {},
     "output_type": "execute_result"
    },
    {
     "data": {
      "image/png": "[encoded data removed]",
      "text/plain": [
       "<Figure size 432x288 with 1 Axes>"
      ]
     },
     "metadata": {
      "needs_background": "light"
     },
     "output_type": "display_data"
    }
   ],
   "source": [
    "tmp_per_client[100].plot.bar(x='core', y='used')"
   ]
  },
  {
   "cell_type": "markdown",
   "id": "b0222911",
   "metadata": {},
   "source": [
    "# Latency with SOCKPERF"
   ]
  },
  {
   "cell_type": "code",
   "execution_count": 72,
   "id": "23d37694",
   "metadata": {},
   "outputs": [
    {
     "name": "stdout",
     "output_type": "stream",
     "text": [
      "   client        99th      99.9th     99.99th    99.999th\n",
      "0       1    0.229176    0.288566    1.659841    2.189469\n",
      "1      50   32.554845   59.406914   63.578147   65.139727\n",
      "2     100  495.292679  526.934510  542.972890  545.360648\n"
     ]
    },
    {
     "data": {
      "text/plain": [
       "<AxesSubplot: xlabel='client'>"
      ]
     },
     "execution_count": 72,
     "metadata": {},
     "output_type": "execute_result"
    },
    {
     "data": {
      "image/png": "[encoded data removed]",
      "text/plain": [
       "<Figure size 432x288 with 1 Axes>"
      ]
     },
     "metadata": {
      "needs_background": "light"
     },
     "output_type": "display_data"
    }
   ],
   "source": [
    "latency = pd.read_csv(f\"../{res_dir}/summary/clients/sockperf-1.csv\")\n",
    "tails = ['99th', '99.9th', '99.99th', '99.999th',]\n",
    "cols = ['min', 'median', 'max'] + tails\n",
    "latency = latency.groupby(['cpu', 'client', 'run']).median().reset_index()\n",
    "latency[cols] /= 1000\n",
    "print(latency[['client'] + tails])\n",
    "latency.plot(x='client', y='99.99th', grid=True)"
   ]
  },
  {
   "cell_type": "markdown",
   "id": "293b6a42",
   "metadata": {},
   "source": [
    "# Throughput"
   ]
  },
  {
   "cell_type": "code",
   "execution_count": 73,
   "id": "539446d6",
   "metadata": {},
   "outputs": [
    {
     "name": "stdout",
     "output_type": "stream",
     "text": [
      "   cpu  client  run     rxpck/s  txpck/s    rxkB/s    txkB/s\n",
      "0   18       1    1   26152.500  13167.0  0.171491  0.011394\n",
      "1   18      50    1  770012.000  57771.5  7.959787  0.117012\n",
      "2   18     100    1  699014.765  45499.0  7.865810  0.107815\n"
     ]
    },
    {
     "data": {
      "text/plain": [
       "<AxesSubplot: xlabel='client'>"
      ]
     },
     "execution_count": 73,
     "metadata": {},
     "output_type": "execute_result"
    },
    {
     "data": {
      "image/png": "[encoded data removed]",
      "text/plain": [
       "<Figure size 432x288 with 1 Axes>"
      ]
     },
     "metadata": {
      "needs_background": "light"
     },
     "output_type": "display_data"
    }
   ],
   "source": [
    "net = pd.read_csv(f\"../{res_dir}/summary/server/throughput-sar.csv\")\n",
    "net = net[net.iface == 'wg']\n",
    "net = net.groupby(['cpu', 'client', 'run']).median(numeric_only=True).reset_index()\n",
    "net['rxkB/s'] = net['rxkB/s'] * 8 / 1e6\n",
    "net['txkB/s'] = net['txkB/s'] * 8 / 1e6\n",
    "print(net)\n",
    "net.plot(x='client', y='rxkB/s', grid=True)"
   ]
  },
  {
   "cell_type": "code",
   "execution_count": null,
   "id": "d5da7a73",
   "metadata": {},
   "outputs": [],
   "source": []
  }
 ],
 "metadata": {
  "kernelspec": {
   "display_name": "Python 3 (ipykernel)",
   "language": "python",
   "name": "python3"
  },
  "language_info": {
   "codemirror_mode": {
    "name": "ipython",
    "version": 3
   },
   "file_extension": ".py",
   "mimetype": "text/x-python",
   "name": "python",
   "nbconvert_exporter": "python",
   "pygments_lexer": "ipython3",
   "version": "3.11.6"
  }
 },
 "nbformat": 4,
 "nbformat_minor": 5
}
