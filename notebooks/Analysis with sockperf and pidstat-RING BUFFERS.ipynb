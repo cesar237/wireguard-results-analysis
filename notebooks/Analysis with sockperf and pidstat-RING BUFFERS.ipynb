{
 "cells": [
  {
   "cell_type": "code",
   "execution_count": 1,
   "id": "3a2d15ce",
   "metadata": {},
   "outputs": [],
   "source": [
    "import numpy as np\n",
    "import scienceplots\n",
    "from matplotlib import pyplot as plt\n",
    "import matplotlib as mp\n",
    "import pandas as pd\n",
    "import os\n",
    "import scipy as sp\n",
    "import seaborn as sns\n",
    "import json\n",
    "import yaml\n",
    "import functools\n",
    "import itertools"
   ]
  },
  {
   "cell_type": "code",
   "execution_count": 192,
   "id": "4d56d396",
   "metadata": {},
   "outputs": [],
   "source": [
    "prefix='sockperf-eval'\n",
    "prefix='upload-res2'\n",
    "prefix='bench-results'"
   ]
  },
  {
   "cell_type": "code",
   "execution_count": 193,
   "id": "b5450c7d",
   "metadata": {},
   "outputs": [],
   "source": [
    "res_dir = os.listdir(f'../{prefix}')[0]\n",
    "res_dir = f\"{prefix}/{res_dir}\""
   ]
  },
  {
   "cell_type": "code",
   "execution_count": 308,
   "id": "8d81b2de-4fa6-4a13-98b1-45fd37e4b9f8",
   "metadata": {},
   "outputs": [],
   "source": [
    "def import_pidstat(res_dir, batched=False, batches=[2,4,8,16,32], cc_levels=[4, 16, 32]):\n",
    "    if not batched:\n",
    "        names = ['cpu','client','run','timestamp','wait','used','core','command']\n",
    "        pidstat = pd.read_csv(f\"../{res_dir}/summary/server/cpu-pidstat.csv\", names=names, skiprows=1)\n",
    "        pidstat = pidstat[pidstat.used >= 0]\n",
    "        tmp = pidstat.groupby(['cpu', 'client', 'core', 'timestamp', 'run']).sum(numeric_only=True).reset_index() \n",
    "        tmp = tmp.groupby(['cpu', 'client', 'core', 'run']).median(numeric_only=True).reset_index()\n",
    "        tmp = tmp.groupby(['cpu', 'client', 'core']).median(numeric_only=True).reset_index()\n",
    "        global_cpu = tmp.groupby(['cpu', 'client']).mean().reset_index()\n",
    "        return global_cpu, tmp\n",
    "    else:\n",
    "        dfs = {}\n",
    "        for batch, cc_level in itertools.product(batches, cc_levels):\n",
    "            names = ['cpu','client','run','timestamp','wait','used','core','command']\n",
    "            pidstat = pd.read_csv(\n",
    "                f\"../{res_dir}/summary/batch-{batch}/concurrency-{cc_level}/server/cpu-pidstat.csv\",\n",
    "                names=names, skiprows=1)\n",
    "            pidstat = pidstat[pidstat.used >= 0]\n",
    "            tmp = pidstat.groupby(['cpu', 'client', 'core', 'timestamp', 'run']).sum(numeric_only=True).reset_index() \n",
    "            tmp = tmp.groupby(['cpu', 'client', 'core', 'run']).median(numeric_only=True).reset_index()\n",
    "            tmp = tmp.groupby(['cpu', 'client', 'core']).median(numeric_only=True).reset_index()\n",
    "            global_cpu = tmp.groupby(['cpu', 'client']).median().reset_index()\n",
    "            global_cpu['batch'] = batch\n",
    "            global_cpu['concurrency'] = cc_level\n",
    "            dfs[(batch, cc_level)] = global_cpu\n",
    "        return dfs\n",
    "            \n",
    "\n",
    "def import_cpu(res_dir):\n",
    "    cpu = pd.read_csv(f\"../{res_dir}/summary/server/cpu-sar.csv\")\n",
    "    cpu = cpu[cpu.core != -1]\n",
    "    tmp = cpu.groupby(['cpu', 'client', 'core', 'run']).max().reset_index()\n",
    "    tmp = cpu.groupby(['cpu', 'client', 'core']).max().reset_index()\n",
    "    tmp['used'] = 100 - tmp['idle']\n",
    "    global_cpu = tmp.groupby(['cpu', 'client']).median().reset_index()\n",
    "    return global_cpu, tmp\n",
    "\n",
    "def import_latency(res_dir, batched=False, batches=[2,4,8,16,32], cc_levels=[4, 16, 32]):\n",
    "    if not batched:\n",
    "        latency = pd.read_csv(f\"../{res_dir}/summary/clients/sockperf-1.csv\")\n",
    "        tails = ['99th', '99.9th', '99.99th', '99.999th',]\n",
    "        cols = ['min', 'median', 'max'] + tails\n",
    "        latency = latency.groupby(['cpu', 'client', 'run']).max().reset_index()\n",
    "        latency = latency.groupby(['cpu', 'client']).max().reset_index()\n",
    "        latency[cols] /= 1000\n",
    "        return latency\n",
    "    else:\n",
    "        dfs = {}\n",
    "        for batch, cc_level in itertools.product(batches, cc_levels):\n",
    "            latency = pd.read_csv(f\"../{res_dir}/summary/batch-{batch}/concurrency-{cc_level}/clients/sockperf-1.csv\")\n",
    "            tails = ['99th', '99.9th', '99.99th', '99.999th',]\n",
    "            cols = ['median', 'max'] + tails\n",
    "            latency = latency.groupby(['cpu', 'client', 'run']).max().reset_index()\n",
    "            latency = latency.groupby(['cpu', 'client']).max().reset_index()\n",
    "#             print(batch, cc_level)\n",
    "            latency[cols] /= 1000\n",
    "            latency['batch'] = batch\n",
    "            latency['concurrency'] = cc_level\n",
    "            dfs[(batch, cc_level)] = latency\n",
    "        return dfs\n",
    "            \n",
    "\n",
    "def import_throughput(res_dir, batched=False, batches=[2,4,8,16,32], cc_levels=[4, 16, 32]):\n",
    "    if not batched:\n",
    "        net = pd.read_csv(f\"../{res_dir}/summary/server/throughput-sar.csv\")\n",
    "        net = net[net.iface == 'wg']\n",
    "        net = net.groupby(['cpu', 'client', 'run']).median(numeric_only=True).reset_index()\n",
    "        net = net.groupby(['cpu', 'client',]).max(numeric_only=True).reset_index()\n",
    "        net['rxkB/s'] = net['rxkB/s'] * 8 / 1e6\n",
    "        net['txkB/s'] = net['txkB/s'] * 8 / 1e6\n",
    "        return net\n",
    "    else:\n",
    "        dfs = {}\n",
    "        for batch, cc_level in itertools.product(batches, cc_levels):\n",
    "            net = pd.read_csv(f\"../{res_dir}/summary/batch-{batch}/concurrency-{cc_level}/server/throughput-sar.csv\")\n",
    "            net = net[net.iface == 'wg']\n",
    "            net = net.groupby(['cpu', 'client', 'run']).max(numeric_only=True).reset_index()\n",
    "            net = net.groupby(['cpu', 'client',]).max(numeric_only=True).reset_index()\n",
    "            net['rxkB/s'] = net['rxkB/s'] * 8 / 1e6\n",
    "            net['txkB/s'] = net['txkB/s'] * 8 / 1e6\n",
    "            net['batch'] = batch\n",
    "            net['concurrency'] = cc_level\n",
    "            dfs[(batch, cc_level)] = net\n",
    "        return dfs\n",
    "\n",
    "def plot_all(res_dirs, importer, kind='bar', y='used', \n",
    "             variants=[0,1], variant_names=['VANILLA', 'CRYPTONCE'], correct=[], \n",
    "             ylabel='CPU Usage (in \\%)', ylim=None, figsize=(4, 3), ncols=1,\n",
    "             space=.1, annotate='improvement', annotate_baseline='VANILLA', annotate_variant='CRYPTONCE', \n",
    "             fontsize=8, savefig=None, columnspacing=1):\n",
    "#     vanilla = importer(res_dirs[0][0])\n",
    "#     cryptonce = importer(res_dirs[1][0])\n",
    "    baseline = importer(res_dirs[variants[0]][0])\n",
    "    \n",
    "    dfs = [importer(res_dirs[i][0]) for i in variants]\n",
    "\n",
    "    for df_idx, key, val in correct:\n",
    "        dfs[df_idx].loc[key, y] = val\n",
    "    \n",
    "    df = pd.DataFrame()\n",
    "    df['client'] = dfs[0]['client']\n",
    "    for df_, name in zip(dfs, variant_names):\n",
    "        df[name] = df_[y]\n",
    "    \n",
    "    df['diff'] = df[annotate_baseline] - df[annotate_variant]\n",
    "    df['improvement'] = df['diff'] * 100 / df[annotate_baseline]\n",
    "\n",
    "    with plt.style.context(['science', 'ieee']):\n",
    "        if kind == 'bar':\n",
    "            ax = df.plot.bar(x='client', y=variant_names, color=['black', 'red', 'blue', 'green'],\n",
    "                   grid=True, ylabel=ylabel, ylim=ylim, figsize=figsize, xlabel='Clients')\n",
    "            plt.xticks(rotation=0)\n",
    "            \n",
    "            if annotate is not None:\n",
    "                for k, i in enumerate(df.index):\n",
    "                    suffix = \"\\%\" if annotate == \"improvement\" else \"\"\n",
    "                    max_height = df.loc[i, annotate_baseline]  # Position at the higher bar\n",
    "                    ax.text(k, max_height + space, f'{df.loc[i, annotate]:.2f}{suffix}', \n",
    "                            ha='center', fontsize=fontsize)\n",
    "            \n",
    "        elif kind == 'line':\n",
    "            ax = baseline.plot(\n",
    "                x='client', y=y, grid=True, color='black', marker='x',\n",
    "                label=variant_names[0], xlabel='Clients', ylabel=ylabel,\n",
    "            )\n",
    "            for df_, name in zip(dfs[1:], variant_names[1:]):\n",
    "                ax = df_.plot(ax=ax, marker='o', figsize=figsize,\n",
    "                    x='client', y=y, grid=True, color='red',\n",
    "                    label=name, xlabel='Clients', ylabel=ylabel, ylim=ylim\n",
    "                )\n",
    "        plt.legend(loc='upper left', ncol=ncols, columnspacing=columnspacing)\n",
    "        if savefig is not None:\n",
    "            plt.savefig(savefig, dpi=400)\n",
    "        plt.show()\n",
    "    return df"
   ]
  },
  {
   "cell_type": "code",
   "execution_count": 195,
   "id": "d5da7a73",
   "metadata": {},
   "outputs": [],
   "source": [
    "batches = [2, 4, 8, 16, 32]\n",
    "cc_levels = [4, 16, 32]\n",
    "\n",
    "def reslv_res_name(res_dir):\n",
    "    batch = False\n",
    "    filename = f\"../{res_dir}/EXPERIMENT_DATA/CURRENT_EXP\"\n",
    "    if \"batch\" in filename:\n",
    "        batch = True\n",
    "    \n",
    "    with open(filename) as file:\n",
    "        test_config = file.read().strip()\n",
    "    \n",
    "#     yaml_file = f\"../{res_dir}/EXPERIMENT_DATA/{test_config}.yaml\"\n",
    "#     with open(yaml_file) as file:\n",
    "#         content = yaml.load(file, yaml.FullLoader)\n",
    "#         flow = content['all']['vars']['bandwidth']\n",
    "    if test_config != 'default':\n",
    "        variant = '-'.join(test_config.split('-')[1:])\n",
    "     \n",
    "    return test_config, variant"
   ]
  },
  {
   "cell_type": "code",
   "execution_count": 196,
   "id": "cbda9e8d",
   "metadata": {},
   "outputs": [
    {
     "data": {
      "text/plain": [
       "['results-a59a8715', 'results-53da84af', 'results-076401b1']"
      ]
     },
     "execution_count": 196,
     "metadata": {},
     "output_type": "execute_result"
    }
   ],
   "source": [
    "os.listdir(f\"../{prefix}\")"
   ]
  },
  {
   "cell_type": "code",
   "execution_count": 198,
   "id": "56567daf-e78c-4769-b14b-543d7031307b",
   "metadata": {},
   "outputs": [],
   "source": [
    "res_dirs = [(f\"{prefix}/{e}\", *reslv_res_name(f\"{prefix}/{e}\")) \n",
    "            for e in os.listdir(f\"../{prefix}\") if e.startswith(\"results-\")]"
   ]
  },
  {
   "cell_type": "code",
   "execution_count": 200,
   "id": "c817a234",
   "metadata": {},
   "outputs": [
    {
     "data": {
      "text/plain": [
       "[(0, ('bench-results/results-a59a8715', 'benchmark-vanilla', 'vanilla')),\n",
       " (1,\n",
       "  ('bench-results/results-53da84af',\n",
       "   'benchmark-wireguard-batch',\n",
       "   'wireguard-batch')),\n",
       " (2,\n",
       "  ('bench-results/results-076401b1',\n",
       "   'benchmark-wireguard-multi-queue',\n",
       "   'wireguard-multi-queue'))]"
      ]
     },
     "execution_count": 200,
     "metadata": {},
     "output_type": "execute_result"
    }
   ],
   "source": [
    "list(enumerate(res_dirs))"
   ]
  },
  {
   "cell_type": "code",
   "execution_count": 201,
   "id": "e09a238e-0032-40ef-b63c-21d54718bae7",
   "metadata": {},
   "outputs": [],
   "source": [
    "# 1. find yes and put it at start\n",
    "# 2. find no and put it at second\n",
    "\n",
    "def find_index(res_dirs, val):\n",
    "    for k, res in enumerate(res_dirs):\n",
    "        if res[4] == val:\n",
    "            return k\n",
    "\n",
    "def print_tab(tab):\n",
    "    for i in tab:\n",
    "        print(i)"
   ]
  },
  {
   "cell_type": "code",
   "execution_count": 202,
   "id": "6fd75c28-ae7b-4032-9f3b-49dad630d43b",
   "metadata": {},
   "outputs": [
    {
     "name": "stdout",
     "output_type": "stream",
     "text": [
      "(0, ('bench-results/results-a59a8715', 'benchmark-vanilla', 'vanilla'))\n",
      "(1, ('bench-results/results-53da84af', 'benchmark-wireguard-batch', 'wireguard-batch'))\n",
      "(2, ('bench-results/results-076401b1', 'benchmark-wireguard-multi-queue', 'wireguard-multi-queue'))\n"
     ]
    }
   ],
   "source": [
    "prefix='bench-results'\n",
    "try:\n",
    "    os.makedirs(f\"../graphs/{prefix}\")\n",
    "except:\n",
    "    pass\n",
    "res_dirs = [(f\"{prefix}/{e}\", *reslv_res_name(f\"{prefix}/{e}\")) \n",
    "            for e in os.listdir(f\"../{prefix}\") if e.startswith(\"results-\")]\n",
    "# index = find_index(res_dirs, 'yes')\n",
    "# yes = res_dirs.pop(index)\n",
    "# res_dirs.insert(0, yes)\n",
    "print_tab(enumerate(res_dirs))"
   ]
  },
  {
   "cell_type": "code",
   "execution_count": 124,
   "id": "50dd16f8-cddf-4080-894b-1ad0431019d2",
   "metadata": {},
   "outputs": [],
   "source": [
    "def pidstat_importer(res_dir):\n",
    "    return import_pidstat(res_dir)[0]\n",
    "\n",
    "def cpu_importer(res_dir):\n",
    "    return import_cpu(res_dir)[0]"
   ]
  },
  {
   "cell_type": "code",
   "execution_count": 330,
   "id": "6b5d177c",
   "metadata": {},
   "outputs": [],
   "source": [
    "metric = 'throughput'\n",
    "ylabel = 'Throughput (in Mbps)'\n",
    "\n",
    "def plot_batch(df_net, metric, ylabel, normalize=False, normal_value=None):\n",
    "    df = df_net[df_net.clients == 100].pivot(index='batch', columns='concurrency', values=metric)\n",
    "    if normalize:\n",
    "        df = df / normal_value\n",
    "    ax = df.plot.bar(\n",
    "        grid=True, ylabel=ylabel\n",
    "    )\n",
    "    if normalize:\n",
    "        ax.axhline(y=1, color='black', linestyle='--', label='vanilla')\n",
    "    if not normalize and normal_value is not None:\n",
    "        ax.axhline(y=normal_value, color='black', linestyle='--', label='vanilla')\n",
    "    plt.xticks(rotation=0)\n",
    "    plt.show()\n",
    "    return df"
   ]
  },
  {
   "cell_type": "code",
   "execution_count": null,
   "id": "52b3cf87",
   "metadata": {},
   "outputs": [],
   "source": []
  },
  {
   "cell_type": "markdown",
   "id": "9cf78877",
   "metadata": {},
   "source": [
    "# Vanilla"
   ]
  },
  {
   "cell_type": "code",
   "execution_count": 331,
   "id": "d01e08cd",
   "metadata": {},
   "outputs": [
    {
     "data": {
      "text/plain": [
       "7547.7271"
      ]
     },
     "execution_count": 331,
     "metadata": {},
     "output_type": "execute_result"
    }
   ],
   "source": [
    "df_net = pd.read_csv(f\"../{res_dirs[0][0]}/summary/throughput.csv\").dropna()\n",
    "df = df_net[df_net.clients == 100]\n",
    "throughput_vanilla = df.throughput.iloc[0]\n",
    "throughput_vanilla"
   ]
  },
  {
   "cell_type": "code",
   "execution_count": 332,
   "id": "fef25c98",
   "metadata": {},
   "outputs": [
    {
     "data": {
      "text/plain": [
       "489026.0"
      ]
     },
     "execution_count": 332,
     "metadata": {},
     "output_type": "execute_result"
    }
   ],
   "source": [
    "df_latency = pd.read_csv(f\"../{res_dirs[0][0]}/summary/latency.csv\").dropna()\n",
    "df = df_latency[df_latency.clients == 100]\n",
    "p99_vanilla = df.p99.iloc[0]\n",
    "p99_vanilla"
   ]
  },
  {
   "cell_type": "code",
   "execution_count": 333,
   "id": "fee61db9",
   "metadata": {},
   "outputs": [
    {
     "data": {
      "text/plain": [
       "30.028333333333332"
      ]
     },
     "execution_count": 333,
     "metadata": {},
     "output_type": "execute_result"
    }
   ],
   "source": [
    "df_cpu = import_pidstat(res_dirs[0][0])[0].rename(columns={'client': 'clients'})\n",
    "df = df_cpu[df_cpu.clients == 100]\n",
    "cpu_vanilla = df.used.iloc[0]\n",
    "cpu_vanilla"
   ]
  },
  {
   "cell_type": "markdown",
   "id": "205ed50b",
   "metadata": {},
   "source": [
    "# Batch"
   ]
  },
  {
   "cell_type": "code",
   "execution_count": 336,
   "id": "dacdfb3d",
   "metadata": {},
   "outputs": [
    {
     "data": {
      "image/png": "[encoded data removed]",
      "text/plain": [
       "<Figure size 640x480 with 1 Axes>"
      ]
     },
     "metadata": {},
     "output_type": "display_data"
    },
    {
     "data": {
      "text/html": [
       "<div>\n",
       "<style scoped>\n",
       "    .dataframe tbody tr th:only-of-type {\n",
       "        vertical-align: middle;\n",
       "    }\n",
       "\n",
       "    .dataframe tbody tr th {\n",
       "        vertical-align: top;\n",
       "    }\n",
       "\n",
       "    .dataframe thead th {\n",
       "        text-align: right;\n",
       "    }\n",
       "</style>\n",
       "<table border=\"1\" class=\"dataframe\">\n",
       "  <thead>\n",
       "    <tr style=\"text-align: right;\">\n",
       "      <th>concurrency</th>\n",
       "      <th>4</th>\n",
       "      <th>16</th>\n",
       "      <th>32</th>\n",
       "    </tr>\n",
       "    <tr>\n",
       "      <th>batch</th>\n",
       "      <th></th>\n",
       "      <th></th>\n",
       "      <th></th>\n",
       "    </tr>\n",
       "  </thead>\n",
       "  <tbody>\n",
       "    <tr>\n",
       "      <th>2</th>\n",
       "      <td>5601.73390</td>\n",
       "      <td>8883.174900</td>\n",
       "      <td>9686.840200</td>\n",
       "    </tr>\n",
       "    <tr>\n",
       "      <th>4</th>\n",
       "      <td>8164.57470</td>\n",
       "      <td>11263.181700</td>\n",
       "      <td>11800.048130</td>\n",
       "    </tr>\n",
       "    <tr>\n",
       "      <th>8</th>\n",
       "      <td>7118.95299</td>\n",
       "      <td>9252.842670</td>\n",
       "      <td>8475.304980</td>\n",
       "    </tr>\n",
       "    <tr>\n",
       "      <th>16</th>\n",
       "      <td>6481.08700</td>\n",
       "      <td>6786.957930</td>\n",
       "      <td>6276.062684</td>\n",
       "    </tr>\n",
       "    <tr>\n",
       "      <th>32</th>\n",
       "      <td>5282.74085</td>\n",
       "      <td>5869.072696</td>\n",
       "      <td>5804.779412</td>\n",
       "    </tr>\n",
       "  </tbody>\n",
       "</table>\n",
       "</div>"
      ],
      "text/plain": [
       "concurrency          4             16            32\n",
       "batch                                              \n",
       "2            5601.73390   8883.174900   9686.840200\n",
       "4            8164.57470  11263.181700  11800.048130\n",
       "8            7118.95299   9252.842670   8475.304980\n",
       "16           6481.08700   6786.957930   6276.062684\n",
       "32           5282.74085   5869.072696   5804.779412"
      ]
     },
     "execution_count": 336,
     "metadata": {},
     "output_type": "execute_result"
    }
   ],
   "source": [
    "df_net = pd.read_csv(f\"../{res_dirs[1][0]}/summary/throughput.csv\").dropna()\n",
    "plot_batch(df_net, 'throughput', 'Throughput (in Mbps)', normal_value=throughput_vanilla)"
   ]
  },
  {
   "cell_type": "code",
   "execution_count": 337,
   "id": "f4670358",
   "metadata": {},
   "outputs": [
    {
     "data": {
      "image/png": "[encoded data removed]",
      "text/plain": [
       "<Figure size 640x480 with 1 Axes>"
      ]
     },
     "metadata": {},
     "output_type": "display_data"
    },
    {
     "data": {
      "text/html": [
       "<div>\n",
       "<style scoped>\n",
       "    .dataframe tbody tr th:only-of-type {\n",
       "        vertical-align: middle;\n",
       "    }\n",
       "\n",
       "    .dataframe tbody tr th {\n",
       "        vertical-align: top;\n",
       "    }\n",
       "\n",
       "    .dataframe thead th {\n",
       "        text-align: right;\n",
       "    }\n",
       "</style>\n",
       "<table border=\"1\" class=\"dataframe\">\n",
       "  <thead>\n",
       "    <tr style=\"text-align: right;\">\n",
       "      <th>concurrency</th>\n",
       "      <th>4</th>\n",
       "      <th>16</th>\n",
       "      <th>32</th>\n",
       "    </tr>\n",
       "    <tr>\n",
       "      <th>batch</th>\n",
       "      <th></th>\n",
       "      <th></th>\n",
       "      <th></th>\n",
       "    </tr>\n",
       "  </thead>\n",
       "  <tbody>\n",
       "    <tr>\n",
       "      <th>2</th>\n",
       "      <td>63847.000</td>\n",
       "      <td>64170.381</td>\n",
       "      <td>57780.135</td>\n",
       "    </tr>\n",
       "    <tr>\n",
       "      <th>4</th>\n",
       "      <td>62023.400</td>\n",
       "      <td>177606.000</td>\n",
       "      <td>281617.977</td>\n",
       "    </tr>\n",
       "    <tr>\n",
       "      <th>8</th>\n",
       "      <td>302226.000</td>\n",
       "      <td>604341.000</td>\n",
       "      <td>806112.000</td>\n",
       "    </tr>\n",
       "    <tr>\n",
       "      <th>16</th>\n",
       "      <td>395183.000</td>\n",
       "      <td>1011075.124</td>\n",
       "      <td>1069229.132</td>\n",
       "    </tr>\n",
       "    <tr>\n",
       "      <th>32</th>\n",
       "      <td>972679.912</td>\n",
       "      <td>1757360.000</td>\n",
       "      <td>2013534.445</td>\n",
       "    </tr>\n",
       "  </tbody>\n",
       "</table>\n",
       "</div>"
      ],
      "text/plain": [
       "concurrency          4            16           32\n",
       "batch                                            \n",
       "2             63847.000    64170.381    57780.135\n",
       "4             62023.400   177606.000   281617.977\n",
       "8            302226.000   604341.000   806112.000\n",
       "16           395183.000  1011075.124  1069229.132\n",
       "32           972679.912  1757360.000  2013534.445"
      ]
     },
     "execution_count": 337,
     "metadata": {},
     "output_type": "execute_result"
    }
   ],
   "source": [
    "df_latency = pd.read_csv(f\"../{res_dirs[1][0]}/summary/latency.csv\").dropna().replace(0, np.nan)\n",
    "plot_batch(df_latency, 'p99', '99th Tail Latency (in us)', normal_value=p99_vanilla)"
   ]
  },
  {
   "cell_type": "code",
   "execution_count": 338,
   "id": "4e54e0c0",
   "metadata": {},
   "outputs": [
    {
     "data": {
      "image/png": "[encoded data removed]",
      "text/plain": [
       "<Figure size 640x480 with 1 Axes>"
      ]
     },
     "metadata": {},
     "output_type": "display_data"
    },
    {
     "data": {
      "text/html": [
       "<div>\n",
       "<style scoped>\n",
       "    .dataframe tbody tr th:only-of-type {\n",
       "        vertical-align: middle;\n",
       "    }\n",
       "\n",
       "    .dataframe tbody tr th {\n",
       "        vertical-align: top;\n",
       "    }\n",
       "\n",
       "    .dataframe thead th {\n",
       "        text-align: right;\n",
       "    }\n",
       "</style>\n",
       "<table border=\"1\" class=\"dataframe\">\n",
       "  <thead>\n",
       "    <tr style=\"text-align: right;\">\n",
       "      <th>concurrency</th>\n",
       "      <th>4</th>\n",
       "      <th>16</th>\n",
       "      <th>32</th>\n",
       "    </tr>\n",
       "    <tr>\n",
       "      <th>batch</th>\n",
       "      <th></th>\n",
       "      <th></th>\n",
       "      <th></th>\n",
       "    </tr>\n",
       "  </thead>\n",
       "  <tbody>\n",
       "    <tr>\n",
       "      <th>2</th>\n",
       "      <td>34.50</td>\n",
       "      <td>81.50</td>\n",
       "      <td>72.00</td>\n",
       "    </tr>\n",
       "    <tr>\n",
       "      <th>4</th>\n",
       "      <td>42.00</td>\n",
       "      <td>62.25</td>\n",
       "      <td>37.00</td>\n",
       "    </tr>\n",
       "    <tr>\n",
       "      <th>8</th>\n",
       "      <td>15.25</td>\n",
       "      <td>26.50</td>\n",
       "      <td>28.00</td>\n",
       "    </tr>\n",
       "    <tr>\n",
       "      <th>16</th>\n",
       "      <td>14.75</td>\n",
       "      <td>27.50</td>\n",
       "      <td>23.25</td>\n",
       "    </tr>\n",
       "    <tr>\n",
       "      <th>32</th>\n",
       "      <td>13.50</td>\n",
       "      <td>23.00</td>\n",
       "      <td>21.75</td>\n",
       "    </tr>\n",
       "  </tbody>\n",
       "</table>\n",
       "</div>"
      ],
      "text/plain": [
       "concurrency     4      16     32\n",
       "batch                           \n",
       "2            34.50  81.50  72.00\n",
       "4            42.00  62.25  37.00\n",
       "8            15.25  26.50  28.00\n",
       "16           14.75  27.50  23.25\n",
       "32           13.50  23.00  21.75"
      ]
     },
     "execution_count": 338,
     "metadata": {},
     "output_type": "execute_result"
    }
   ],
   "source": [
    "dfs_cpu = import_pidstat(res_dirs[1][0], batched=True)\n",
    "df_cpu = pd.concat(dfs_cpu.values(), axis=0).rename(columns={'client': 'clients'})\n",
    "plot_batch(df_cpu, 'used', 'CPU Usage', normal_value=cpu_vanilla)"
   ]
  },
  {
   "cell_type": "code",
   "execution_count": null,
   "id": "ec2f429c",
   "metadata": {},
   "outputs": [],
   "source": []
  }
 ],
 "metadata": {
  "kernelspec": {
   "display_name": "Python 3 (ipykernel)",
   "language": "python",
   "name": "python3"
  },
  "language_info": {
   "codemirror_mode": {
    "name": "ipython",
    "version": 3
   },
   "file_extension": ".py",
   "mimetype": "text/x-python",
   "name": "python",
   "nbconvert_exporter": "python",
   "pygments_lexer": "ipython3",
   "version": "3.11.6"
  }
 },
 "nbformat": 4,
 "nbformat_minor": 5
}
